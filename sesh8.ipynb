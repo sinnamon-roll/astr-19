{
 "cells": [
  {
   "cell_type": "code",
   "execution_count": null,
   "id": "13bfeb88",
   "metadata": {},
   "outputs": [],
   "source": [
    "import matplotlib.pyplot as plt\n",
    "import numpy as np"
   ]
  },
  {
   "cell_type": "code",
   "execution_count": null,
   "id": "94d5a0ed",
   "metadata": {},
   "outputs": [],
   "source": [
    "x = np.arange(0, 1.01, .01, dtype=float)"
   ]
  },
  {
   "cell_type": "code",
   "execution_count": null,
   "id": "8d32dce2",
   "metadata": {},
   "outputs": [],
   "source": [
    "def sin(x):\n",
    "    z = np.sin(x)\n",
    "    return(z)"
   ]
  },
  {
   "cell_type": "code",
   "execution_count": null,
   "id": "4c2d3bc7",
   "metadata": {},
   "outputs": [],
   "source": [
    "def cos(x):\n",
    "    y = np.cos(x)\n",
    "    return(y)"
   ]
  },
  {
   "cell_type": "code",
   "execution_count": null,
   "id": "db0862cf",
   "metadata": {},
   "outputs": [],
   "source": [
    "fig, dos = plt.subplots(1, 2)\n",
    "dos[0].set_title('sin(x)')\n",
    "dos[1].set_title('cos(x)')\n",
    "dos[0].plot(x, sin(x))\n",
    "dos[1].plot(x, cos(x))\n",
    "plt.savefig('sesh8.pdf')"
   ]
  }
 ],
 "metadata": {
  "kernelspec": {
   "display_name": "Python 3 (ipykernel)",
   "language": "python",
   "name": "python3"
  },
  "language_info": {
   "codemirror_mode": {
    "name": "ipython",
    "version": 3
   },
   "file_extension": ".py",
   "mimetype": "text/x-python",
   "name": "python",
   "nbconvert_exporter": "python",
   "pygments_lexer": "ipython3",
   "version": "3.10.4"
  }
 },
 "nbformat": 4,
 "nbformat_minor": 5
}
