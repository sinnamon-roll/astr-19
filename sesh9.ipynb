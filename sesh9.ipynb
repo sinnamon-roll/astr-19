{
 "cells": [
  {
   "cell_type": "code",
   "execution_count": null,
   "id": "2ed753d8",
   "metadata": {},
   "outputs": [],
   "source": [
    "import matplotlib.pyplot as plt\n",
    "import numpy as np"
   ]
  },
  {
   "cell_type": "code",
   "execution_count": null,
   "id": "61c91064",
   "metadata": {},
   "outputs": [],
   "source": [
    "x = np.random.uniform(0,1, 1000)"
   ]
  },
  {
   "cell_type": "code",
   "execution_count": null,
   "id": "06f99e91",
   "metadata": {},
   "outputs": [],
   "source": [
    "plt.hist(x, 100)\n",
    "plt.title('Doin a histogram')\n",
    "plt.xlabel('Numbers between 0, 1')\n",
    "plt.ylabel('Frequency of number when randomly generated')\n",
    "plt.savefig('sesh9.pdf')"
   ]
  }
 ],
 "metadata": {
  "kernelspec": {
   "display_name": "Python 3 (ipykernel)",
   "language": "python",
   "name": "python3"
  },
  "language_info": {
   "codemirror_mode": {
    "name": "ipython",
    "version": 3
   },
   "file_extension": ".py",
   "mimetype": "text/x-python",
   "name": "python",
   "nbconvert_exporter": "python",
   "pygments_lexer": "ipython3",
   "version": "3.10.4"
  }
 },
 "nbformat": 4,
 "nbformat_minor": 5
}
