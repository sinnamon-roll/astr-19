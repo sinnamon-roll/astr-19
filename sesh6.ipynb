{
 "cells": [
  {
   "cell_type": "markdown",
   "id": "fa49c52a",
   "metadata": {},
   "source": [
    "We doing this in jupyter now, though it will be very similar to sesh5"
   ]
  },
  {
   "cell_type": "code",
   "execution_count": null,
   "id": "9d4cfc92",
   "metadata": {},
   "outputs": [],
   "source": [
    "import numpy as np"
   ]
  },
  {
   "cell_type": "markdown",
   "id": "254c7df0",
   "metadata": {},
   "source": [
    "The sin function"
   ]
  },
  {
   "cell_type": "code",
   "execution_count": null,
   "id": "1d03941d",
   "metadata": {},
   "outputs": [],
   "source": [
    "def s(x):\n",
    "    return np.sin(x)"
   ]
  },
  {
   "cell_type": "markdown",
   "id": "0f249e44",
   "metadata": {},
   "source": [
    "The cos function"
   ]
  },
  {
   "cell_type": "code",
   "execution_count": null,
   "id": "4bb96ad8",
   "metadata": {},
   "outputs": [],
   "source": [
    "def c(x):\n",
    "    return np.cos(x)"
   ]
  },
  {
   "cell_type": "markdown",
   "id": "5def8ea3",
   "metadata": {},
   "source": [
    "The tabulate part, making it main so its easier on me"
   ]
  },
  {
   "cell_type": "code",
   "execution_count": null,
   "id": "5676fec6",
   "metadata": {},
   "outputs": [],
   "source": [
    "def main():\n",
    "    a = np.linspace(0, 2*np.pi, 1000)\n",
    "    b = s(a)\n",
    "    d = c(a)\n",
    "    table(a, b, d)"
   ]
  },
  {
   "cell_type": "markdown",
   "id": "ab8e5802",
   "metadata": {},
   "source": [
    "For loop, probably should throw this above main but I wanted to have these in assignment order"
   ]
  },
  {
   "cell_type": "code",
   "execution_count": null,
   "id": "3f104db5",
   "metadata": {},
   "outputs": [],
   "source": [
    "def table(a, b, d):\n",
    "    print(\"x\", \"|\", \"sin(x)\", \"|\", \"cos(x)\")\n",
    "    for i in range(10):\n",
    "        print(a[i], \"|\", b[i], \"|\", d[i])"
   ]
  },
  {
   "cell_type": "code",
   "execution_count": null,
   "id": "2ea536d2",
   "metadata": {},
   "outputs": [],
   "source": [
    "if __name__ == '__main__':\n",
    "    main()"
   ]
  }
 ],
 "metadata": {
  "kernelspec": {
   "display_name": "Python 3 (ipykernel)",
   "language": "python",
   "name": "python3"
  },
  "language_info": {
   "codemirror_mode": {
    "name": "ipython",
    "version": 3
   },
   "file_extension": ".py",
   "mimetype": "text/x-python",
   "name": "python",
   "nbconvert_exporter": "python",
   "pygments_lexer": "ipython3",
   "version": "3.10.4"
  }
 },
 "nbformat": 4,
 "nbformat_minor": 5
}
