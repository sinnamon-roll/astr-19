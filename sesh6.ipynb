{
 "cells": [
  {
   "cell_type": "markdown",
   "id": "fa49c52a",
   "metadata": {},
   "source": [
    "We doing this in jupyter now, though it will be very similar to sesh5"
   ]
  },
  {
   "cell_type": "code",
   "execution_count": 1,
   "id": "9d4cfc92",
   "metadata": {},
   "outputs": [],
   "source": [
    "import numpy as np"
   ]
  },
  {
   "cell_type": "markdown",
   "id": "254c7df0",
   "metadata": {},
   "source": [
    "The sin function"
   ]
  },
  {
   "cell_type": "code",
   "execution_count": 2,
   "id": "1d03941d",
   "metadata": {},
   "outputs": [],
   "source": [
    "def s(x):\n",
    "    return np.sin(x)"
   ]
  },
  {
   "cell_type": "markdown",
   "id": "0f249e44",
   "metadata": {},
   "source": [
    "The cos function"
   ]
  },
  {
   "cell_type": "code",
   "execution_count": 3,
   "id": "4bb96ad8",
   "metadata": {},
   "outputs": [],
   "source": [
    "def c(x):\n",
    "    return np.cos(x)"
   ]
  },
  {
   "cell_type": "markdown",
   "id": "5def8ea3",
   "metadata": {},
   "source": [
    "The tabulate part, making it main so its easier on me"
   ]
  },
  {
   "cell_type": "code",
   "execution_count": 4,
   "id": "5676fec6",
   "metadata": {},
   "outputs": [],
   "source": [
    "def main():\n",
    "    a = np.linspace(0, 2*np.pi, 1000)\n",
    "    b = s(a)\n",
    "    d = c(a)\n",
    "    table(a, b, d)"
   ]
  },
  {
   "cell_type": "markdown",
   "id": "ab8e5802",
   "metadata": {},
   "source": [
    "For loop, probably should throw this above main but I wanted to have these in assignment order"
   ]
  },
  {
   "cell_type": "code",
   "execution_count": 5,
   "id": "3f104db5",
   "metadata": {},
   "outputs": [],
   "source": [
    "def table(a, b, d):\n",
    "    print(\"x\", \"|\", \"sin(x)\", \"|\", \"cos(x)\")\n",
    "    for i in range(10):\n",
    "        print(a[i], \"|\", b[i], \"|\", d[i])"
   ]
  },
  {
   "cell_type": "code",
   "execution_count": 6,
   "id": "2ea536d2",
   "metadata": {},
   "outputs": [
    {
     "name": "stdout",
     "output_type": "stream",
     "text": [
      "x | sin(x) | cos(x)\n",
      "0.0 | 0.0 | 1.0\n",
      "0.006289474781961547 | 0.006289433316067751 | 0.9999802213186832\n",
      "0.012578949563923095 | 0.012578617838741058 | 0.9999208860571255\n",
      "0.018868424345884642 | 0.01886730478446709 | 0.9998219965624732\n",
      "0.02515789912784619 | 0.025155245389375847 | 0.9996835567465339\n",
      "0.03144737390980774 | 0.0314421909191206 | 0.9995055720856215\n",
      "0.037736848691769284 | 0.03772789267871718 | 0.99928804962034\n",
      "0.04402632347373083 | 0.04401210202238166 | 0.9990309979553044\n",
      "0.05031579825569238 | 0.05029457036336618 | 0.9987344272588006\n",
      "0.056605273037653926 | 0.056575049183792345 | 0.9983983492623831\n"
     ]
    }
   ],
   "source": [
    "if __name__ == '__main__':\n",
    "    main()"
   ]
  },
  {
   "cell_type": "code",
   "execution_count": null,
   "id": "1b32fc71",
   "metadata": {},
   "outputs": [],
   "source": []
  }
 ],
 "metadata": {
  "kernelspec": {
   "display_name": "Python 3 (ipykernel)",
   "language": "python",
   "name": "python3"
  },
  "language_info": {
   "codemirror_mode": {
    "name": "ipython",
    "version": 3
   },
   "file_extension": ".py",
   "mimetype": "text/x-python",
   "name": "python",
   "nbconvert_exporter": "python",
   "pygments_lexer": "ipython3",
   "version": "3.10.4"
  }
 },
 "nbformat": 4,
 "nbformat_minor": 5
}
